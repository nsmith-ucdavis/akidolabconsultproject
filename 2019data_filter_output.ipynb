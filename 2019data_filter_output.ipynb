{
 "cells": [
  {
   "cell_type": "code",
   "execution_count": null,
   "metadata": {},
   "outputs": [],
   "source": [
    "import pandas as pd\n",
    "import numpy as np"
   ]
  },
  {
   "cell_type": "code",
   "execution_count": null,
   "metadata": {
    "scrolled": true
   },
   "outputs": [],
   "source": [
    "#import 2019 data#\n",
    "df2019 = pd.read_csv('C:/Users/nateb/Desktop/Insight/Akidolabs/Akido_DPS_Data/CADEvents_DispatchNotes_2019.csv')\n",
    "df=df2019\n",
    "\n",
    "#Pre filter length and # of homeless and transient words appearing in dispatch description#\n",
    "#Each cell shows the new # of rows after deletion, as well as the number of time the \n",
    "#word \"homeless\" or \"transient\" appears in the dispatch description\n",
    "\n",
    "print(len(df2019))\n",
    "print(df.PoliceInformationSummary.str.count(\"homeless\").sum())\n",
    "print(df.PoliceInformationSummary.str.count(\"transient\").sum())"
   ]
  },
  {
   "cell_type": "code",
   "execution_count": null,
   "metadata": {},
   "outputs": [],
   "source": [
    "########################\n",
    "#Beginning of Akido ####\n",
    "#Filters            ####   \n",
    "########################\n",
    "\n",
    "df=df.dropna(subset=['ccClass'])\n",
    "print(len(df))\n",
    "print(df.PoliceInformationSummary.str.count(\"homeless\").sum())\n",
    "print(df.PoliceInformationSummary.str.count(\"transient\").sum())"
   ]
  },
  {
   "cell_type": "code",
   "execution_count": null,
   "metadata": {},
   "outputs": [],
   "source": [
    "df=df.drop(df[df.disposition.isin([\"Cancelled Event\", \"CANCEL\",\"CODE 12 - FALSE ALARM\",\n",
    "                                   \"CODE 12 - STAFF AT LOCATION\",\"CODE 12 - CLASS IN SESSION\"])].index)\n",
    "print(len(df))\n",
    "print(df.PoliceInformationSummary.str.count(\"homeless\").sum())\n",
    "print(df.PoliceInformationSummary.str.count(\"transient\").sum())"
   ]
  },
  {
   "cell_type": "code",
   "execution_count": null,
   "metadata": {},
   "outputs": [],
   "source": [
    "df=df.drop(df[df.ccDescription.isin([\"Operation Gift Patrol Check\", \"Court Appearance\",\"Line Inspection\",\n",
    "                                   \"Out at the Station/Range\",\"Out for Vehicle Maintenance\",\"Post Check\"])].index)\n",
    "print(len(df))\n",
    "print(df.PoliceInformationSummary.str.count(\"homeless\").sum())\n",
    "print(df.PoliceInformationSummary.str.count(\"transient\").sum())"
   ]
  },
  {
   "cell_type": "code",
   "execution_count": null,
   "metadata": {},
   "outputs": [],
   "source": [
    "df = df[pd.notnull(df['ccDescription'])]\n",
    "print(len(df))\n",
    "print(df.PoliceInformationSummary.str.count(\"homeless\").sum())\n",
    "print(df.PoliceInformationSummary.str.count(\"transient\").sum())"
   ]
  },
  {
   "cell_type": "code",
   "execution_count": null,
   "metadata": {},
   "outputs": [],
   "source": [
    "df=df.drop(df[df.ccDescription.isin([\"Community Foot Beat\", \"Community Contact\"])].index)\n",
    "print(len(df))\n",
    "print(df.PoliceInformationSummary.str.count(\"homeless\").sum())\n",
    "print(df.PoliceInformationSummary.str.count(\"transient\").sum())"
   ]
  },
  {
   "cell_type": "code",
   "execution_count": null,
   "metadata": {},
   "outputs": [],
   "source": [
    "df=df.drop(df[df.ccDescription.isin([\"Beginning of Watch\", \"Call Off Work\",\"Community Presentation\",\n",
    "                                   \"Department Training\",\"End of Watch\",\"Late Call\",\n",
    "                                    \"Meal Break\",\"Personal Break\",\"Personnel Relief\",\"Writing a Report\"])].index)\n",
    "print(len(df))\n",
    "print(df.PoliceInformationSummary.str.count(\"homeless\").sum())\n",
    "print(df.PoliceInformationSummary.str.count(\"transient\").sum())"
   ]
  },
  {
   "cell_type": "code",
   "execution_count": null,
   "metadata": {},
   "outputs": [],
   "source": [
    "########################\n",
    "#Beginning of new   ####\n",
    "#filters            ####   \n",
    "########################\n",
    "\n",
    "df=df[pd.notnull(df['PoliceInformationSummary'])]\n",
    "print(len(df))\n",
    "print(df.PoliceInformationSummary.str.count(\"homeless\").sum())\n",
    "print(df.PoliceInformationSummary.str.count(\"transient\").sum())"
   ]
  },
  {
   "cell_type": "code",
   "execution_count": null,
   "metadata": {},
   "outputs": [],
   "source": [
    "df=df[~df.PoliceInformationSummary.str.contains(\"Gamma\")]\n",
    "print(len(df))\n",
    "print(df.PoliceInformationSummary.str.count(\"homeless\").sum())\n",
    "print(df.PoliceInformationSummary.str.count(\"transient\").sum())"
   ]
  },
  {
   "cell_type": "code",
   "execution_count": null,
   "metadata": {},
   "outputs": [],
   "source": [
    "df=df[~df.PoliceInformationSummary.str.contains(\"Officer Safety:\")]\n",
    "print(len(df))\n",
    "print(df.PoliceInformationSummary.str.count(\"homeless\").sum())\n",
    "print(df.PoliceInformationSummary.str.count(\"transient\").sum())"
   ]
  },
  {
   "cell_type": "code",
   "execution_count": null,
   "metadata": {},
   "outputs": [],
   "source": [
    "df=df.drop(df[df.ccDescription.isin([\"Opening\"])].index)\n",
    "print(len(df))\n",
    "print(df.PoliceInformationSummary.str.count(\"homeless\").sum())\n",
    "print(df.PoliceInformationSummary.str.count(\"transient\").sum())"
   ]
  },
  {
   "cell_type": "code",
   "execution_count": null,
   "metadata": {},
   "outputs": [],
   "source": [
    "df=df.drop(df[df.ccDescription.isin([\"Personal Escort\"])].index)\n",
    "print(len(df))\n",
    "print(df.PoliceInformationSummary.str.count(\"homeless\").sum())\n",
    "print(df.PoliceInformationSummary.str.count(\"transient\").sum())"
   ]
  },
  {
   "cell_type": "code",
   "execution_count": null,
   "metadata": {},
   "outputs": [],
   "source": [
    "df=df.drop(df[df.ccDescription.isin([\"Proactive Policing\"])].index)\n",
    "print(len(df))\n",
    "print(df.PoliceInformationSummary.str.count(\"homeless\").sum())\n",
    "print(df.PoliceInformationSummary.str.count(\"transient\").sum())"
   ]
  },
  {
   "cell_type": "code",
   "execution_count": null,
   "metadata": {},
   "outputs": [],
   "source": [
    "df=df.drop(df[df.ccDescription.isin([\"Closing\"])].index)\n",
    "print(len(df))\n",
    "print(df.PoliceInformationSummary.str.count(\"homeless\").sum())\n",
    "print(df.PoliceInformationSummary.str.count(\"transient\").sum())"
   ]
  }
 ],
 "metadata": {
  "kernelspec": {
   "display_name": "Python 3",
   "language": "python",
   "name": "python3"
  },
  "language_info": {
   "codemirror_mode": {
    "name": "ipython",
    "version": 3
   },
   "file_extension": ".py",
   "mimetype": "text/x-python",
   "name": "python",
   "nbconvert_exporter": "python",
   "pygments_lexer": "ipython3",
   "version": "3.7.3"
  }
 },
 "nbformat": 4,
 "nbformat_minor": 2
}
