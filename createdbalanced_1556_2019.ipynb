{
 "cells": [
  {
   "cell_type": "code",
   "execution_count": 2,
   "metadata": {},
   "outputs": [],
   "source": [
    "import pandas as pd\n",
    "import numpy as np\n",
    "import matplotlib.pyplot as plt\n",
    "import re\n",
    "import random\n",
    "import numpy\n"
   ]
  },
  {
   "cell_type": "code",
   "execution_count": 3,
   "metadata": {
    "scrolled": true
   },
   "outputs": [
    {
     "name": "stdout",
     "output_type": "stream",
     "text": [
      "16021\n",
      "201\n",
      "399\n"
     ]
    }
   ],
   "source": [
    "#Import 2019 data that has already been put\n",
    "#through filters from 2019data_filter_out\n",
    "\n",
    "df2019 = pd.read_csv('C:/Users/nateb/Desktop/Insight/Akidolabs/Akido_DPS_Data/work2019.csv')\n",
    "df=df2019\n",
    "print(len(df2019))\n",
    "print(df.PoliceInformationSummary.str.count(\"homeless\").sum())\n",
    "print(df.PoliceInformationSummary.str.count(\"transient\").sum())"
   ]
  },
  {
   "cell_type": "code",
   "execution_count": 4,
   "metadata": {},
   "outputs": [
    {
     "name": "stdout",
     "output_type": "stream",
     "text": [
      "664\n"
     ]
    }
   ],
   "source": [
    "###Create new column in dataframe that contains value of 1 \n",
    "###when one the Akido keywords is present\n",
    "\n",
    "\n",
    "is_classakido = []\n",
    "\n",
    "key = ['panhandling', 'panhandlers', 'transients', 'transient', 'homeless', 'vagrant', \n",
    "       'vagrancy', 'sleeping on','1942','brashere','njmo','cowboy','james brown']    \n",
    "\n",
    "for i in range(len(df)):\n",
    "\n",
    "    if any (x in df['PoliceInformationSummary'].values[i] for x in key):\n",
    "        is_classakido.append(1)\n",
    "    else:\n",
    "        is_classakido.append(0)\n",
    "    \n",
    "print(np.sum(is_classakido))\n",
    "df['is_classakido'] = is_classakido"
   ]
  },
  {
   "cell_type": "code",
   "execution_count": 5,
   "metadata": {},
   "outputs": [
    {
     "name": "stdout",
     "output_type": "stream",
     "text": [
      "778\n"
     ]
    }
   ],
   "source": [
    "###Create new column in dataframe that contains value of 1 \n",
    "###when one the following keywords is present\n",
    "\n",
    "is_class1 = []\n",
    "\n",
    "key = ['panhandling', 'panhandlers', 'panhandler', 'transients', 'transient', 'homeless', 'vagrant', \n",
    "       'vagrants', 'vagrancy', 'sleeping on', 'sleeping under','beg','begging','1942','brashere',\n",
    "      'njmo','cowboy','sleepingon','james brown','mentally','erratic','shopping cart','shopping carts']    \n",
    "\n",
    "for i in range(len(df)):\n",
    "\n",
    "    if any (x in df['PoliceInformationSummary'].values[i] for x in key):\n",
    "        is_class1.append(1)\n",
    "    else:\n",
    "        is_class1.append(0)\n",
    "    \n",
    "print(np.sum(is_class1))\n",
    "df['is_class1'] = is_class1\n",
    "#sub = df2019.loc[(df2019[\"ccDescription\"] == 'Community Contact') & (df2019['is_homeless'] == 1)]\n",
    "#print(len(sub))\n",
    "#print(sub['PoliceInformationSummary'].values[0])\n",
    "#print(sub['PoliceInformationSummary'].values[1])"
   ]
  },
  {
   "cell_type": "code",
   "execution_count": 8,
   "metadata": {},
   "outputs": [
    {
     "name": "stdout",
     "output_type": "stream",
     "text": [
      "15243\n",
      "778\n"
     ]
    },
    {
     "data": {
      "text/plain": [
       "(None, None)"
      ]
     },
     "execution_count": 8,
     "metadata": {},
     "output_type": "execute_result"
    }
   ],
   "source": [
    "#Count how mnay values of 1 occur in test sample\n",
    "#alternatively can select from is_class akido\n",
    "#column for more conservative estimates\n",
    "#Seed is not set\n",
    "# Class count\n",
    "count_class_0, count_class_1 = df['is_class1'].value_counts()\n",
    "\n",
    "# Divide by class\n",
    "df_class_0 = df[df['is_class1'] == 0]\n",
    "df_class_1 = df[df['is_class1'] == 1]\n",
    "\n",
    "print(count_class_0),print(count_class_1)"
   ]
  },
  {
   "cell_type": "code",
   "execution_count": 9,
   "metadata": {},
   "outputs": [
    {
     "name": "stdout",
     "output_type": "stream",
     "text": [
      "Random under-sampling:\n",
      "1    778\n",
      "0    778\n",
      "Name: is_class1, dtype: int64\n"
     ]
    },
    {
     "data": {
      "image/png": "[encoded data removed]",
      "text/plain": [
       "<Figure size 432x288 with 1 Axes>"
      ]
     },
     "metadata": {
      "needs_background": "light"
     },
     "output_type": "display_data"
    }
   ],
   "source": [
    "###Balance data using undersampling\n",
    "###Majority class (not homless) is undersampled, equal number of 0 to 1\n",
    "\n",
    "\n",
    "df_class_0_under = df_class_0.sample(count_class_1)\n",
    "df_train_under = pd.concat([df_class_0_under, df_class_1], axis=0)\n",
    "\n",
    "print('Random under-sampling:')\n",
    "print(df_train_under['is_class1'].value_counts())\n",
    "\n",
    "df_train_under['is_class1'].value_counts().plot(kind='bar', title='Count (is_class1)');"
   ]
  },
  {
   "cell_type": "code",
   "execution_count": 10,
   "metadata": {},
   "outputs": [],
   "source": [
    "#Export balanced training set\n",
    "df_train_under.to_csv (r'C:\\Users\\nateb\\Desktop\\Insight\\Akidolabs\\Akido_DPS_Data\\train_1556.csv', \n",
    "                        index = None, header=True) "
   ]
  }
 ],
 "metadata": {
  "kernelspec": {
   "display_name": "Python 3",
   "language": "python",
   "name": "python3"
  },
  "language_info": {
   "codemirror_mode": {
    "name": "ipython",
    "version": 3
   },
   "file_extension": ".py",
   "mimetype": "text/x-python",
   "name": "python",
   "nbconvert_exporter": "python",
   "pygments_lexer": "ipython3",
   "version": "3.7.3"
  }
 },
 "nbformat": 4,
 "nbformat_minor": 2
}
