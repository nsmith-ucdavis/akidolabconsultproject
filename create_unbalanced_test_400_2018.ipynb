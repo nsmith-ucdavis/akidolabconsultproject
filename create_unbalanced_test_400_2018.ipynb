{
 "cells": [
  {
   "cell_type": "code",
   "execution_count": 1,
   "metadata": {},
   "outputs": [],
   "source": [
    "import pandas as pd\n",
    "import numpy as np\n",
    "import random"
   ]
  },
  {
   "cell_type": "code",
   "execution_count": 2,
   "metadata": {
    "scrolled": true
   },
   "outputs": [
    {
     "name": "stdout",
     "output_type": "stream",
     "text": [
      "274614\n",
      "431.0\n",
      "798.0\n"
     ]
    }
   ],
   "source": [
    "##Import 2018 data to create test set##\n",
    "##All filters are applied before split#\n",
    "\n",
    "df2018 = pd.read_csv('C:/Users/nateb/Desktop/Insight/Akidolabs/Akido_DPS_Data/CADEvents_DispatchNotes_2018.csv')\n",
    "df=df2018\n",
    "print(len(df2018))\n",
    "print(df.PoliceInformationSummary.str.count(\"homeless\").sum())\n",
    "print(df.PoliceInformationSummary.str.count(\"transient\").sum())"
   ]
  },
  {
   "cell_type": "code",
   "execution_count": 3,
   "metadata": {},
   "outputs": [
    {
     "name": "stdout",
     "output_type": "stream",
     "text": [
      "274245\n",
      "430.0\n",
      "795.0\n"
     ]
    }
   ],
   "source": [
    "########################\n",
    "#Beginning of Akido ####\n",
    "#Filters            ####   \n",
    "########################\n",
    "df=df.dropna(subset=['ccClass'])\n",
    "print(len(df))\n",
    "print(df.PoliceInformationSummary.str.count(\"homeless\").sum())\n",
    "print(df.PoliceInformationSummary.str.count(\"transient\").sum())"
   ]
  },
  {
   "cell_type": "code",
   "execution_count": 4,
   "metadata": {},
   "outputs": [
    {
     "name": "stdout",
     "output_type": "stream",
     "text": [
      "268306\n",
      "419.0\n",
      "784.0\n"
     ]
    }
   ],
   "source": [
    "df=df.drop(df[df.disposition.isin([\"Cancelled Event\", \"CANCEL\",\"CODE 12 - FALSE ALARM\",\n",
    "                                   \"CODE 12 - STAFF AT LOCATION\",\"CODE 12 - CLASS IN SESSION\"])].index)\n",
    "print(len(df))\n",
    "print(df.PoliceInformationSummary.str.count(\"homeless\").sum())\n",
    "print(df.PoliceInformationSummary.str.count(\"transient\").sum())"
   ]
  },
  {
   "cell_type": "code",
   "execution_count": 5,
   "metadata": {},
   "outputs": [
    {
     "name": "stdout",
     "output_type": "stream",
     "text": [
      "254902\n",
      "419.0\n",
      "784.0\n"
     ]
    }
   ],
   "source": [
    "df=df.drop(df[df.ccDescription.isin([\"Operation Gift Patrol Check\", \"Court Appearance\",\"Line Inspection\",\n",
    "                                   \"Out at the Station/Range\",\"Out for Vehicle Maintenance\",\"Post Check\"])].index)\n",
    "print(len(df))\n",
    "print(df.PoliceInformationSummary.str.count(\"homeless\").sum())\n",
    "print(df.PoliceInformationSummary.str.count(\"transient\").sum())"
   ]
  },
  {
   "cell_type": "code",
   "execution_count": 6,
   "metadata": {},
   "outputs": [
    {
     "name": "stdout",
     "output_type": "stream",
     "text": [
      "254902\n",
      "419.0\n",
      "784.0\n"
     ]
    }
   ],
   "source": [
    "df = df[pd.notnull(df['ccDescription'])]\n",
    "print(len(df))\n",
    "print(df.PoliceInformationSummary.str.count(\"homeless\").sum())\n",
    "print(df.PoliceInformationSummary.str.count(\"transient\").sum())"
   ]
  },
  {
   "cell_type": "code",
   "execution_count": 7,
   "metadata": {},
   "outputs": [
    {
     "name": "stdout",
     "output_type": "stream",
     "text": [
      "198754\n",
      "285.0\n",
      "618.0\n"
     ]
    }
   ],
   "source": [
    "df=df.drop(df[df.ccDescription.isin([\"Community Foot Beat\", \"Community Contact\"])].index)\n",
    "print(len(df))\n",
    "print(df.PoliceInformationSummary.str.count(\"homeless\").sum())\n",
    "print(df.PoliceInformationSummary.str.count(\"transient\").sum())"
   ]
  },
  {
   "cell_type": "code",
   "execution_count": 8,
   "metadata": {},
   "outputs": [
    {
     "name": "stdout",
     "output_type": "stream",
     "text": [
      "159581\n",
      "285.0\n",
      "618.0\n"
     ]
    }
   ],
   "source": [
    "df=df.drop(df[df.ccDescription.isin([\"Beginning of Watch\", \"Call Off Work\",\"Community Presentation\",\n",
    "                                   \"Department Training\",\"End of Watch\",\"Late Call\",\n",
    "                                    \"Meal Break\",\"Personal Break\",\"Personnel Relief\",\"Writing a Report\"])].index)\n",
    "print(len(df))\n",
    "print(df.PoliceInformationSummary.str.count(\"homeless\").sum())\n",
    "print(df.PoliceInformationSummary.str.count(\"transient\").sum())"
   ]
  },
  {
   "cell_type": "code",
   "execution_count": 9,
   "metadata": {},
   "outputs": [
    {
     "name": "stdout",
     "output_type": "stream",
     "text": [
      "58133\n",
      "285\n",
      "618\n"
     ]
    }
   ],
   "source": [
    "########################\n",
    "#Beginning of new   ####\n",
    "#filters            ####   \n",
    "########################\n",
    "df=df[pd.notnull(df['PoliceInformationSummary'])]\n",
    "print(len(df))\n",
    "print(df.PoliceInformationSummary.str.count(\"homeless\").sum())\n",
    "print(df.PoliceInformationSummary.str.count(\"transient\").sum())"
   ]
  },
  {
   "cell_type": "code",
   "execution_count": 10,
   "metadata": {},
   "outputs": [
    {
     "name": "stdout",
     "output_type": "stream",
     "text": [
      "48297\n",
      "284\n",
      "612\n"
     ]
    }
   ],
   "source": [
    "df=df[~df.PoliceInformationSummary.str.contains(\"Gamma\")]\n",
    "print(len(df))\n",
    "print(df.PoliceInformationSummary.str.count(\"homeless\").sum())\n",
    "print(df.PoliceInformationSummary.str.count(\"transient\").sum())"
   ]
  },
  {
   "cell_type": "code",
   "execution_count": 11,
   "metadata": {},
   "outputs": [
    {
     "name": "stdout",
     "output_type": "stream",
     "text": [
      "41761\n",
      "262\n",
      "570\n"
     ]
    }
   ],
   "source": [
    "df=df[~df.PoliceInformationSummary.str.contains(\"Officer Safety:\")]\n",
    "print(len(df))\n",
    "print(df.PoliceInformationSummary.str.count(\"homeless\").sum())\n",
    "print(df.PoliceInformationSummary.str.count(\"transient\").sum())"
   ]
  },
  {
   "cell_type": "code",
   "execution_count": 12,
   "metadata": {},
   "outputs": [
    {
     "name": "stdout",
     "output_type": "stream",
     "text": [
      "34748\n",
      "262\n",
      "569\n"
     ]
    }
   ],
   "source": [
    "df=df.drop(df[df.ccDescription.isin([\"Opening\"])].index)\n",
    "print(len(df))\n",
    "print(df.PoliceInformationSummary.str.count(\"homeless\").sum())\n",
    "print(df.PoliceInformationSummary.str.count(\"transient\").sum())"
   ]
  },
  {
   "cell_type": "code",
   "execution_count": 13,
   "metadata": {},
   "outputs": [
    {
     "name": "stdout",
     "output_type": "stream",
     "text": [
      "31653\n",
      "261\n",
      "568\n"
     ]
    }
   ],
   "source": [
    "df=df.drop(df[df.ccDescription.isin([\"Personal Escort\"])].index)\n",
    "print(len(df))\n",
    "print(df.PoliceInformationSummary.str.count(\"homeless\").sum())\n",
    "print(df.PoliceInformationSummary.str.count(\"transient\").sum())"
   ]
  },
  {
   "cell_type": "code",
   "execution_count": 14,
   "metadata": {},
   "outputs": [
    {
     "name": "stdout",
     "output_type": "stream",
     "text": [
      "31653\n",
      "261\n",
      "568\n"
     ]
    }
   ],
   "source": [
    "df=df.drop(df[df.ccDescription.isin([\"Proactive Policing\"])].index)\n",
    "print(len(df))\n",
    "print(df.PoliceInformationSummary.str.count(\"homeless\").sum())\n",
    "print(df.PoliceInformationSummary.str.count(\"transient\").sum())"
   ]
  },
  {
   "cell_type": "code",
   "execution_count": 15,
   "metadata": {},
   "outputs": [
    {
     "name": "stdout",
     "output_type": "stream",
     "text": [
      "31003\n",
      "261\n",
      "566\n"
     ]
    }
   ],
   "source": [
    "df=df.drop(df[df.ccDescription.isin([\"Closing\"])].index)\n",
    "print(len(df))\n",
    "print(df.PoliceInformationSummary.str.count(\"homeless\").sum())\n",
    "print(df.PoliceInformationSummary.str.count(\"transient\").sum())"
   ]
  },
  {
   "cell_type": "code",
   "execution_count": 16,
   "metadata": {},
   "outputs": [
    {
     "name": "stdout",
     "output_type": "stream",
     "text": [
      "1022\n"
     ]
    }
   ],
   "source": [
    "###Create new column in dataframe that contains value of 1 \n",
    "###when one the Akido keywords is present\n",
    "\n",
    "is_classakido = []\n",
    "\n",
    "key = ['panhandling', 'panhandlers', 'transients', 'transient', 'homeless', 'vagrant', \n",
    "       'vagrancy', 'sleeping on','1942','brashere','njmo','cowboy','james brown']    \n",
    "\n",
    "for i in range(len(df)):\n",
    "\n",
    "    if any (x in df['PoliceInformationSummary'].values[i] for x in key):\n",
    "        is_classakido.append(1)\n",
    "    else:\n",
    "        is_classakido.append(0)\n",
    "    \n",
    "print(np.sum(is_classakido))\n",
    "df['is_classakido'] = is_classakido"
   ]
  },
  {
   "cell_type": "code",
   "execution_count": 17,
   "metadata": {},
   "outputs": [
    {
     "name": "stdout",
     "output_type": "stream",
     "text": [
      "1301\n"
     ]
    }
   ],
   "source": [
    "###Create new column in dataframe that contains value of 1 \n",
    "###when one the following keywords is present\n",
    "\n",
    "is_class1 = []\n",
    "\n",
    "key = ['panhandling', 'panhandlers', 'panhandler', 'transients', 'transient', 'homeless', 'vagrant', \n",
    "       'vagrants', 'vagrancy', 'sleeping on', 'sleeping under','beg','begging','1942','brashere',\n",
    "      'njmo','cowboy','sleepingon','james brown','mentally','erratic','shopping cart','shopping carts']    \n",
    "\n",
    "for i in range(len(df)):\n",
    "\n",
    "    if any (x in df['PoliceInformationSummary'].values[i] for x in key):\n",
    "        is_class1.append(1)\n",
    "    else:\n",
    "        is_class1.append(0)\n",
    "    \n",
    "print(np.sum(is_class1))\n",
    "df['is_class1'] = is_class1"
   ]
  },
  {
   "cell_type": "code",
   "execution_count": 18,
   "metadata": {},
   "outputs": [],
   "source": [
    "##Random sample of 400 from 2019 data\n",
    "df_test = df.sample(n=400)"
   ]
  },
  {
   "cell_type": "code",
   "execution_count": 19,
   "metadata": {},
   "outputs": [
    {
     "name": "stdout",
     "output_type": "stream",
     "text": [
      "379\n",
      "21\n"
     ]
    },
    {
     "data": {
      "text/plain": [
       "(None, None)"
      ]
     },
     "execution_count": 19,
     "metadata": {},
     "output_type": "execute_result"
    }
   ],
   "source": [
    "#Count how mnay values of 1 occur in test sample\n",
    "#alternatively can select from is_class akido\n",
    "#column for more conservative estimates\n",
    "#Seed is not set\n",
    "\n",
    "# Class count\n",
    "count_class_0, count_class_1 = df_test['is_class1'].value_counts()\n",
    "\n",
    "# Divide by class\n",
    "df_class_0 = df_test[df_test['is_class1'] == 0]\n",
    "df_class_1 = df_test[df_test['is_class1'] == 1]\n",
    "\n",
    "print(count_class_0),print(count_class_1)"
   ]
  },
  {
   "cell_type": "code",
   "execution_count": null,
   "metadata": {},
   "outputs": [],
   "source": [
    "###Export test set to csv\n",
    "df_test.to_csv (r'C:\\Users\\nateb\\Desktop\\Insight\\Akidolabs\\Akido_DPS_Data\\test_400_2018.csv', \n",
    "                        index = None, header=True) \n"
   ]
  }
 ],
 "metadata": {
  "kernelspec": {
   "display_name": "Python 3",
   "language": "python",
   "name": "python3"
  },
  "language_info": {
   "codemirror_mode": {
    "name": "ipython",
    "version": 3
   },
   "file_extension": ".py",
   "mimetype": "text/x-python",
   "name": "python",
   "nbconvert_exporter": "python",
   "pygments_lexer": "ipython3",
   "version": "3.7.3"
  }
 },
 "nbformat": 4,
 "nbformat_minor": 2
}
